{
 "cells": [
  {
   "cell_type": "markdown",
   "metadata": {},
   "source": [
    "#### This is a bit of python practice"
   ]
  },
  {
   "cell_type": "code",
   "execution_count": 9,
   "metadata": {},
   "outputs": [
    {
     "name": "stdout",
     "output_type": "stream",
     "text": [
      "What is your name? E\n",
      "How old are you? 35\n",
      "E will turn 100 in year 2084\n"
     ]
    }
   ],
   "source": [
    "# Question 1\n",
    "'''\n",
    "Create a program that asks the user to enter their name and their age. Print out a message addressed to them\n",
    "that tells them the year that they will turn 100 years old.\n",
    "'''\n",
    "import datetime as dt\n",
    "\n",
    "year = dt.date.today().year\n",
    "name = input('What is your name? ')\n",
    "age = int(input('How old are you? '))\n",
    "year_100 = (100 - age) + year\n",
    "\n",
    "# print('Your name is ', name)\n",
    "print(name, 'will turn 100 in year', year_100)\n"
   ]
  },
  {
   "cell_type": "code",
   "execution_count": 12,
   "metadata": {},
   "outputs": [
    {
     "name": "stdout",
     "output_type": "stream",
     "text": [
      "Fancy Fours\n"
     ]
    }
   ],
   "source": [
    "# Question 2\n",
    "'''\n",
    "Ask the user for a number. Depending on whether the number is even or odd, print out an appropriate message to the user\n",
    "'''\n",
    "\n",
    "def is_odd(x):\n",
    "    if x % 4 == 0:\n",
    "        return print('Fancy Fours')\n",
    "    elif x % 2 == 0:\n",
    "        return False\n",
    "    else:\n",
    "        return True\n",
    "    \n",
    "is_odd(4)"
   ]
  },
  {
   "cell_type": "code",
   "execution_count": 29,
   "metadata": {},
   "outputs": [
    {
     "name": "stdout",
     "output_type": "stream",
     "text": [
      "Please pick a number: 7\n",
      "These numbers are not less than 7 : [21, 8, 13, 34, 55, 89]\n",
      "These numbers are less than 7 : [1, 2, 3, 5, 1]\n"
     ]
    }
   ],
   "source": [
    "# Question 3 \n",
    "'''\n",
    "Take a list and write a program that prints out all the elements of the list that are less than 5.\n",
    "\n",
    "Extras:\n",
    "Instead of printing the elements one by one, make a new list that has all the elements less than 5 from this list in it \n",
    "and print out this new list. \n",
    "Write this in one line of Python.\n",
    "Ask the user for a number and return a list that contains only elements from the original list a that are \n",
    "smaller than that number given by the user.\n",
    "'''\n",
    "\n",
    "list_a = [21, 1, 2, 3, 5, 8, 13, 1, 34, 55, 89]\n",
    "new_list_a = []\n",
    "new_list_LT_a = []\n",
    "\n",
    "num = int(input('Please pick a number: '))\n",
    "\n",
    "def lessthan_five(num_list):\n",
    "    for n in num_list:\n",
    "        if n < num:\n",
    "            new_list_LT_a.append(n)\n",
    "        else:\n",
    "            new_list_a.append(n)\n",
    "    print('These numbers are not less than',num,':',new_list_a)\n",
    "    print('These numbers are less than',num,':',new_list_LT_a)\n",
    "\n",
    "        \n",
    "lessthan_five(list_a)\n"
   ]
  },
  {
   "cell_type": "code",
   "execution_count": null,
   "metadata": {},
   "outputs": [],
   "source": [
    "#Question 4\n",
    "'''\n",
    "Create a program that asks the user for a number and then prints out a list of all the divisors of that number.\n",
    "(If you don’t know what a divisor is, it is a number that divides evenly into another number. \n",
    "For example, 13 is a divisor of 26 because 26 / 13 has no remainder.)\n",
    "'''\n",
    "\n",
    "num = int(input('Please pick a number: '))\n",
    "\n",
    "def divisors(num):\n",
    "    num_list = []"
   ]
  }
 ],
 "metadata": {
  "kernelspec": {
   "display_name": "Python 3",
   "language": "python",
   "name": "python3"
  },
  "language_info": {
   "codemirror_mode": {
    "name": "ipython",
    "version": 3
   },
   "file_extension": ".py",
   "mimetype": "text/x-python",
   "name": "python",
   "nbconvert_exporter": "python",
   "pygments_lexer": "ipython3",
   "version": "3.7.3"
  }
 },
 "nbformat": 4,
 "nbformat_minor": 2
}
