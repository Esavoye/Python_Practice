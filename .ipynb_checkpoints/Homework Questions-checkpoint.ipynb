{
 "cells": [
  {
   "cell_type": "markdown",
   "metadata": {},
   "source": [
    "#### This is a bit of python practice"
   ]
  },
  {
   "cell_type": "code",
   "execution_count": 9,
   "metadata": {},
   "outputs": [
    {
     "name": "stdout",
     "output_type": "stream",
     "text": [
      "What is your name? E\n",
      "How old are you? 35\n",
      "E will turn 100 in year 2084\n"
     ]
    }
   ],
   "source": [
    "# Question 1\n",
    "'''\n",
    "Create a program that asks the user to enter their name and their age. Print out a message addressed to them\n",
    "that tells them the year that they will turn 100 years old.\n",
    "'''\n",
    "import datetime as dt\n",
    "\n",
    "year = dt.date.today().year\n",
    "name = input('What is your name? ')\n",
    "age = int(input('How old are you? '))\n",
    "year_100 = (100 - age) + year\n",
    "\n",
    "# print('Your name is ', name)\n",
    "print(name, 'will turn 100 in year', year_100)\n"
   ]
  },
  {
   "cell_type": "code",
   "execution_count": 12,
   "metadata": {},
   "outputs": [
    {
     "name": "stdout",
     "output_type": "stream",
     "text": [
      "Fancy Fours\n"
     ]
    }
   ],
   "source": [
    "# Question 2\n",
    "'''\n",
    "Ask the user for a number. Depending on whether the number is even or odd, print out an appropriate message to the user\n",
    "'''\n",
    "\n",
    "def is_odd(x):\n",
    "    if x % 4 == 0:\n",
    "        return print('Fancy Fours')\n",
    "    elif x % 2 == 0:\n",
    "        return False\n",
    "    else:\n",
    "        return True\n",
    "    \n",
    "is_odd(4)"
   ]
  },
  {
   "cell_type": "code",
   "execution_count": null,
   "metadata": {},
   "outputs": [],
   "source": [
    "# Question 3 \n",
    "'''\n",
    "Take a list and write a program that prints out all the elements of the list that are less than 5.\n",
    "\n",
    "Extras:\n",
    "\n",
    "Instead of printing the elements one by one, make a new list that has all the elements less than 5 from this list in it \n",
    "and print out this new list. \n",
    "Write this in one line of Python.\n",
    "Ask the user for a number and return a list that contains only elements from the original list a that are \n",
    "smaller than that number given by the user.\n",
    "'''\n",
    "\n",
    "a = [1, 1, 2, 3, 5, 8, 13, 21, 34, 55, 89]"
   ]
  }
 ],
 "metadata": {
  "kernelspec": {
   "display_name": "Python 3",
   "language": "python",
   "name": "python3"
  },
  "language_info": {
   "codemirror_mode": {
    "name": "ipython",
    "version": 3
   },
   "file_extension": ".py",
   "mimetype": "text/x-python",
   "name": "python",
   "nbconvert_exporter": "python",
   "pygments_lexer": "ipython3",
   "version": "3.7.3"
  }
 },
 "nbformat": 4,
 "nbformat_minor": 2
}
